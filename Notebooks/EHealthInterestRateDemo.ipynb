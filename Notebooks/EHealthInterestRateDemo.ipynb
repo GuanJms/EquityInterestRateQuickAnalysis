{
 "cells": [
  {
   "cell_type": "code",
   "execution_count": null,
   "id": "d00c7833",
   "metadata": {},
   "outputs": [],
   "source": [
    "import qrpm_funcs as qf\n",
    "import numpy as np\n",
    "seriesnames=['DGS1MO','DGS3MO','DGS6MO','DGS1','DGS2', \\\n",
    "             'DGS3','DGS5','DGS7','DGS10','DGS20','DGS30']\n",
    "maturities=qf.TenorsFromNames(seriesnames)\n",
    "lastday=qf.LastYearEnd()\n",
    "firstday=qf.LastYearEnd(int(lastday[:4])-1)\n",
    "dates_dirty,prices_dirty=qf.GetFREDMatrix(seriesnames, \\\n",
    "            startdate=firstday,enddate=lastday)\n",
    "#remove no-data periods\n",
    "nan_list=[any(np.isnan(p)) for p in prices_dirty]\n",
    "prices=[prices_dirty[i] for i in range(len(prices_dirty)) if not nan_list[i]]\n",
    "dates=[dates_dirty[i] for i in range(len(dates_dirty)) if not nan_list[i]]\n"
   ]
  }
 ],
 "metadata": {
  "kernelspec": {
   "display_name": "Python 3 (ipykernel)",
   "language": "python",
   "name": "python3"
  },
  "language_info": {
   "codemirror_mode": {
    "name": "ipython",
    "version": 3
   },
   "file_extension": ".py",
   "mimetype": "text/x-python",
   "name": "python",
   "nbconvert_exporter": "python",
   "pygments_lexer": "ipython3",
   "version": "3.11.5"
  }
 },
 "nbformat": 4,
 "nbformat_minor": 5
}
