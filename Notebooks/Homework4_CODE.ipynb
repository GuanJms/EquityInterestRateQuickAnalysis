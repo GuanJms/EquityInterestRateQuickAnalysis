{
 "cells": [
  {
   "cell_type": "code",
   "execution_count": 1,
   "id": "12333758",
   "metadata": {},
   "outputs": [],
   "source": [
    "import qrpm_funcs as qf\n",
    "import numpy as np\n",
    "seriesnames=['DGS1MO','DGS3MO','DGS6MO','DGS1','DGS2', \\\n",
    "             'DGS3','DGS5','DGS7','DGS10','DGS20','DGS30']\n",
    "maturities=qf.TenorsFromNames(seriesnames)\n",
    "lastday=qf.LastYearEnd()\n",
    "firstday=qf.LastYearEnd(int(lastday[:4])-1)\n",
    "dates_dirty,prices_dirty=qf.GetFREDMatrix(seriesnames, \\\n",
    "            startdate=firstday,enddate=lastday)\n",
    "#remove no-data periods\n",
    "nan_list=[any(np.isnan(p)) for p in prices_dirty]\n",
    "prices=[prices_dirty[i] for i in range(len(prices_dirty)) if not nan_list[i]]\n",
    "dates=[dates_dirty[i] for i in range(len(dates_dirty)) if not nan_list[i]]\n"
   ]
  },
  {
   "cell_type": "code",
   "execution_count": 2,
   "id": "494b2239",
   "metadata": {},
   "outputs": [],
   "source": [
    "import pandas as pd"
   ]
  },
  {
   "cell_type": "code",
   "execution_count": 3,
   "id": "ef4cf923",
   "metadata": {},
   "outputs": [],
   "source": [
    "df = pd.DataFrame(prices, index=dates, columns=seriesnames)"
   ]
  },
  {
   "cell_type": "code",
   "execution_count": 4,
   "id": "cb615df9",
   "metadata": {},
   "outputs": [
    {
     "data": {
      "text/html": [
       "<div>\n",
       "<style scoped>\n",
       "    .dataframe tbody tr th:only-of-type {\n",
       "        vertical-align: middle;\n",
       "    }\n",
       "\n",
       "    .dataframe tbody tr th {\n",
       "        vertical-align: top;\n",
       "    }\n",
       "\n",
       "    .dataframe thead th {\n",
       "        text-align: right;\n",
       "    }\n",
       "</style>\n",
       "<table border=\"1\" class=\"dataframe\">\n",
       "  <thead>\n",
       "    <tr style=\"text-align: right;\">\n",
       "      <th></th>\n",
       "      <th>DGS1MO</th>\n",
       "      <th>DGS3MO</th>\n",
       "      <th>DGS6MO</th>\n",
       "      <th>DGS1</th>\n",
       "      <th>DGS2</th>\n",
       "      <th>DGS3</th>\n",
       "      <th>DGS5</th>\n",
       "      <th>DGS7</th>\n",
       "      <th>DGS10</th>\n",
       "      <th>DGS20</th>\n",
       "      <th>DGS30</th>\n",
       "    </tr>\n",
       "  </thead>\n",
       "  <tbody>\n",
       "    <tr>\n",
       "      <th>2020-12-31</th>\n",
       "      <td>0.08</td>\n",
       "      <td>0.09</td>\n",
       "      <td>0.09</td>\n",
       "      <td>0.10</td>\n",
       "      <td>0.13</td>\n",
       "      <td>0.17</td>\n",
       "      <td>0.36</td>\n",
       "      <td>0.65</td>\n",
       "      <td>0.93</td>\n",
       "      <td>1.45</td>\n",
       "      <td>1.65</td>\n",
       "    </tr>\n",
       "    <tr>\n",
       "      <th>2021-01-04</th>\n",
       "      <td>0.09</td>\n",
       "      <td>0.09</td>\n",
       "      <td>0.09</td>\n",
       "      <td>0.10</td>\n",
       "      <td>0.11</td>\n",
       "      <td>0.16</td>\n",
       "      <td>0.36</td>\n",
       "      <td>0.64</td>\n",
       "      <td>0.93</td>\n",
       "      <td>1.46</td>\n",
       "      <td>1.66</td>\n",
       "    </tr>\n",
       "    <tr>\n",
       "      <th>2021-01-05</th>\n",
       "      <td>0.08</td>\n",
       "      <td>0.09</td>\n",
       "      <td>0.09</td>\n",
       "      <td>0.10</td>\n",
       "      <td>0.13</td>\n",
       "      <td>0.17</td>\n",
       "      <td>0.38</td>\n",
       "      <td>0.66</td>\n",
       "      <td>0.96</td>\n",
       "      <td>1.49</td>\n",
       "      <td>1.70</td>\n",
       "    </tr>\n",
       "    <tr>\n",
       "      <th>2021-01-06</th>\n",
       "      <td>0.09</td>\n",
       "      <td>0.09</td>\n",
       "      <td>0.09</td>\n",
       "      <td>0.11</td>\n",
       "      <td>0.14</td>\n",
       "      <td>0.20</td>\n",
       "      <td>0.43</td>\n",
       "      <td>0.74</td>\n",
       "      <td>1.04</td>\n",
       "      <td>1.60</td>\n",
       "      <td>1.81</td>\n",
       "    </tr>\n",
       "    <tr>\n",
       "      <th>2021-01-07</th>\n",
       "      <td>0.09</td>\n",
       "      <td>0.09</td>\n",
       "      <td>0.09</td>\n",
       "      <td>0.11</td>\n",
       "      <td>0.14</td>\n",
       "      <td>0.22</td>\n",
       "      <td>0.46</td>\n",
       "      <td>0.78</td>\n",
       "      <td>1.08</td>\n",
       "      <td>1.64</td>\n",
       "      <td>1.85</td>\n",
       "    </tr>\n",
       "    <tr>\n",
       "      <th>...</th>\n",
       "      <td>...</td>\n",
       "      <td>...</td>\n",
       "      <td>...</td>\n",
       "      <td>...</td>\n",
       "      <td>...</td>\n",
       "      <td>...</td>\n",
       "      <td>...</td>\n",
       "      <td>...</td>\n",
       "      <td>...</td>\n",
       "      <td>...</td>\n",
       "      <td>...</td>\n",
       "    </tr>\n",
       "    <tr>\n",
       "      <th>2021-12-27</th>\n",
       "      <td>0.04</td>\n",
       "      <td>0.06</td>\n",
       "      <td>0.21</td>\n",
       "      <td>0.33</td>\n",
       "      <td>0.76</td>\n",
       "      <td>0.98</td>\n",
       "      <td>1.26</td>\n",
       "      <td>1.41</td>\n",
       "      <td>1.48</td>\n",
       "      <td>1.92</td>\n",
       "      <td>1.88</td>\n",
       "    </tr>\n",
       "    <tr>\n",
       "      <th>2021-12-28</th>\n",
       "      <td>0.03</td>\n",
       "      <td>0.06</td>\n",
       "      <td>0.20</td>\n",
       "      <td>0.39</td>\n",
       "      <td>0.74</td>\n",
       "      <td>0.99</td>\n",
       "      <td>1.27</td>\n",
       "      <td>1.41</td>\n",
       "      <td>1.49</td>\n",
       "      <td>1.94</td>\n",
       "      <td>1.90</td>\n",
       "    </tr>\n",
       "    <tr>\n",
       "      <th>2021-12-29</th>\n",
       "      <td>0.01</td>\n",
       "      <td>0.05</td>\n",
       "      <td>0.19</td>\n",
       "      <td>0.38</td>\n",
       "      <td>0.75</td>\n",
       "      <td>0.99</td>\n",
       "      <td>1.29</td>\n",
       "      <td>1.47</td>\n",
       "      <td>1.55</td>\n",
       "      <td>2.00</td>\n",
       "      <td>1.96</td>\n",
       "    </tr>\n",
       "    <tr>\n",
       "      <th>2021-12-30</th>\n",
       "      <td>0.06</td>\n",
       "      <td>0.05</td>\n",
       "      <td>0.19</td>\n",
       "      <td>0.38</td>\n",
       "      <td>0.73</td>\n",
       "      <td>0.98</td>\n",
       "      <td>1.27</td>\n",
       "      <td>1.44</td>\n",
       "      <td>1.52</td>\n",
       "      <td>1.97</td>\n",
       "      <td>1.93</td>\n",
       "    </tr>\n",
       "    <tr>\n",
       "      <th>2021-12-31</th>\n",
       "      <td>0.06</td>\n",
       "      <td>0.06</td>\n",
       "      <td>0.19</td>\n",
       "      <td>0.39</td>\n",
       "      <td>0.73</td>\n",
       "      <td>0.97</td>\n",
       "      <td>1.26</td>\n",
       "      <td>1.44</td>\n",
       "      <td>1.52</td>\n",
       "      <td>1.94</td>\n",
       "      <td>1.90</td>\n",
       "    </tr>\n",
       "  </tbody>\n",
       "</table>\n",
       "<p>252 rows × 11 columns</p>\n",
       "</div>"
      ],
      "text/plain": [
       "            DGS1MO  DGS3MO  DGS6MO  DGS1  DGS2  DGS3  DGS5  DGS7  DGS10  \\\n",
       "2020-12-31    0.08    0.09    0.09  0.10  0.13  0.17  0.36  0.65   0.93   \n",
       "2021-01-04    0.09    0.09    0.09  0.10  0.11  0.16  0.36  0.64   0.93   \n",
       "2021-01-05    0.08    0.09    0.09  0.10  0.13  0.17  0.38  0.66   0.96   \n",
       "2021-01-06    0.09    0.09    0.09  0.11  0.14  0.20  0.43  0.74   1.04   \n",
       "2021-01-07    0.09    0.09    0.09  0.11  0.14  0.22  0.46  0.78   1.08   \n",
       "...            ...     ...     ...   ...   ...   ...   ...   ...    ...   \n",
       "2021-12-27    0.04    0.06    0.21  0.33  0.76  0.98  1.26  1.41   1.48   \n",
       "2021-12-28    0.03    0.06    0.20  0.39  0.74  0.99  1.27  1.41   1.49   \n",
       "2021-12-29    0.01    0.05    0.19  0.38  0.75  0.99  1.29  1.47   1.55   \n",
       "2021-12-30    0.06    0.05    0.19  0.38  0.73  0.98  1.27  1.44   1.52   \n",
       "2021-12-31    0.06    0.06    0.19  0.39  0.73  0.97  1.26  1.44   1.52   \n",
       "\n",
       "            DGS20  DGS30  \n",
       "2020-12-31   1.45   1.65  \n",
       "2021-01-04   1.46   1.66  \n",
       "2021-01-05   1.49   1.70  \n",
       "2021-01-06   1.60   1.81  \n",
       "2021-01-07   1.64   1.85  \n",
       "...           ...    ...  \n",
       "2021-12-27   1.92   1.88  \n",
       "2021-12-28   1.94   1.90  \n",
       "2021-12-29   2.00   1.96  \n",
       "2021-12-30   1.97   1.93  \n",
       "2021-12-31   1.94   1.90  \n",
       "\n",
       "[252 rows x 11 columns]"
      ]
     },
     "execution_count": 4,
     "metadata": {},
     "output_type": "execute_result"
    }
   ],
   "source": [
    "df"
   ]
  },
  {
   "cell_type": "code",
   "execution_count": 5,
   "id": "30a507b9",
   "metadata": {},
   "outputs": [],
   "source": [
    "df_ddc = (df - df.shift(1)).dropna()"
   ]
  },
  {
   "cell_type": "code",
   "execution_count": 6,
   "id": "3b45023d",
   "metadata": {},
   "outputs": [],
   "source": [
    "cov_matrix = df_ddc.cov()"
   ]
  },
  {
   "cell_type": "code",
   "execution_count": 7,
   "id": "722372f1",
   "metadata": {},
   "outputs": [
    {
     "data": {
      "text/html": [
       "<div>\n",
       "<style scoped>\n",
       "    .dataframe tbody tr th:only-of-type {\n",
       "        vertical-align: middle;\n",
       "    }\n",
       "\n",
       "    .dataframe tbody tr th {\n",
       "        vertical-align: top;\n",
       "    }\n",
       "\n",
       "    .dataframe thead th {\n",
       "        text-align: right;\n",
       "    }\n",
       "</style>\n",
       "<table border=\"1\" class=\"dataframe\">\n",
       "  <thead>\n",
       "    <tr style=\"text-align: right;\">\n",
       "      <th></th>\n",
       "      <th>DGS1MO</th>\n",
       "      <th>DGS3MO</th>\n",
       "      <th>DGS6MO</th>\n",
       "      <th>DGS1</th>\n",
       "      <th>DGS2</th>\n",
       "      <th>DGS3</th>\n",
       "      <th>DGS5</th>\n",
       "      <th>DGS7</th>\n",
       "      <th>DGS10</th>\n",
       "      <th>DGS20</th>\n",
       "      <th>DGS30</th>\n",
       "    </tr>\n",
       "  </thead>\n",
       "  <tbody>\n",
       "    <tr>\n",
       "      <th>DGS1MO</th>\n",
       "      <td>0.000161</td>\n",
       "      <td>0.000012</td>\n",
       "      <td>0.000020</td>\n",
       "      <td>0.000018</td>\n",
       "      <td>-0.000003</td>\n",
       "      <td>-0.000013</td>\n",
       "      <td>-0.000020</td>\n",
       "      <td>-0.000027</td>\n",
       "      <td>-0.000050</td>\n",
       "      <td>-0.000069</td>\n",
       "      <td>-0.000067</td>\n",
       "    </tr>\n",
       "    <tr>\n",
       "      <th>DGS3MO</th>\n",
       "      <td>0.000012</td>\n",
       "      <td>0.000064</td>\n",
       "      <td>0.000019</td>\n",
       "      <td>0.000010</td>\n",
       "      <td>0.000015</td>\n",
       "      <td>0.000026</td>\n",
       "      <td>0.000030</td>\n",
       "      <td>0.000024</td>\n",
       "      <td>0.000030</td>\n",
       "      <td>0.000013</td>\n",
       "      <td>0.000021</td>\n",
       "    </tr>\n",
       "    <tr>\n",
       "      <th>DGS6MO</th>\n",
       "      <td>0.000020</td>\n",
       "      <td>0.000019</td>\n",
       "      <td>0.000078</td>\n",
       "      <td>0.000016</td>\n",
       "      <td>0.000033</td>\n",
       "      <td>0.000028</td>\n",
       "      <td>0.000035</td>\n",
       "      <td>0.000032</td>\n",
       "      <td>0.000021</td>\n",
       "      <td>0.000019</td>\n",
       "      <td>0.000014</td>\n",
       "    </tr>\n",
       "    <tr>\n",
       "      <th>DGS1</th>\n",
       "      <td>0.000018</td>\n",
       "      <td>0.000010</td>\n",
       "      <td>0.000016</td>\n",
       "      <td>0.000132</td>\n",
       "      <td>0.000124</td>\n",
       "      <td>0.000158</td>\n",
       "      <td>0.000176</td>\n",
       "      <td>0.000174</td>\n",
       "      <td>0.000147</td>\n",
       "      <td>0.000139</td>\n",
       "      <td>0.000119</td>\n",
       "    </tr>\n",
       "    <tr>\n",
       "      <th>DGS2</th>\n",
       "      <td>-0.000003</td>\n",
       "      <td>0.000015</td>\n",
       "      <td>0.000033</td>\n",
       "      <td>0.000124</td>\n",
       "      <td>0.000550</td>\n",
       "      <td>0.000562</td>\n",
       "      <td>0.000665</td>\n",
       "      <td>0.000621</td>\n",
       "      <td>0.000514</td>\n",
       "      <td>0.000411</td>\n",
       "      <td>0.000336</td>\n",
       "    </tr>\n",
       "    <tr>\n",
       "      <th>DGS3</th>\n",
       "      <td>-0.000013</td>\n",
       "      <td>0.000026</td>\n",
       "      <td>0.000028</td>\n",
       "      <td>0.000158</td>\n",
       "      <td>0.000562</td>\n",
       "      <td>0.000831</td>\n",
       "      <td>0.000997</td>\n",
       "      <td>0.000979</td>\n",
       "      <td>0.000862</td>\n",
       "      <td>0.000736</td>\n",
       "      <td>0.000641</td>\n",
       "    </tr>\n",
       "    <tr>\n",
       "      <th>DGS5</th>\n",
       "      <td>-0.000020</td>\n",
       "      <td>0.000030</td>\n",
       "      <td>0.000035</td>\n",
       "      <td>0.000176</td>\n",
       "      <td>0.000665</td>\n",
       "      <td>0.000997</td>\n",
       "      <td>0.001480</td>\n",
       "      <td>0.001539</td>\n",
       "      <td>0.001424</td>\n",
       "      <td>0.001307</td>\n",
       "      <td>0.001151</td>\n",
       "    </tr>\n",
       "    <tr>\n",
       "      <th>DGS7</th>\n",
       "      <td>-0.000027</td>\n",
       "      <td>0.000024</td>\n",
       "      <td>0.000032</td>\n",
       "      <td>0.000174</td>\n",
       "      <td>0.000621</td>\n",
       "      <td>0.000979</td>\n",
       "      <td>0.001539</td>\n",
       "      <td>0.001779</td>\n",
       "      <td>0.001722</td>\n",
       "      <td>0.001661</td>\n",
       "      <td>0.001514</td>\n",
       "    </tr>\n",
       "    <tr>\n",
       "      <th>DGS10</th>\n",
       "      <td>-0.000050</td>\n",
       "      <td>0.000030</td>\n",
       "      <td>0.000021</td>\n",
       "      <td>0.000147</td>\n",
       "      <td>0.000514</td>\n",
       "      <td>0.000862</td>\n",
       "      <td>0.001424</td>\n",
       "      <td>0.001722</td>\n",
       "      <td>0.001831</td>\n",
       "      <td>0.001818</td>\n",
       "      <td>0.001731</td>\n",
       "    </tr>\n",
       "    <tr>\n",
       "      <th>DGS20</th>\n",
       "      <td>-0.000069</td>\n",
       "      <td>0.000013</td>\n",
       "      <td>0.000019</td>\n",
       "      <td>0.000139</td>\n",
       "      <td>0.000411</td>\n",
       "      <td>0.000736</td>\n",
       "      <td>0.001307</td>\n",
       "      <td>0.001661</td>\n",
       "      <td>0.001818</td>\n",
       "      <td>0.002023</td>\n",
       "      <td>0.001922</td>\n",
       "    </tr>\n",
       "    <tr>\n",
       "      <th>DGS30</th>\n",
       "      <td>-0.000067</td>\n",
       "      <td>0.000021</td>\n",
       "      <td>0.000014</td>\n",
       "      <td>0.000119</td>\n",
       "      <td>0.000336</td>\n",
       "      <td>0.000641</td>\n",
       "      <td>0.001151</td>\n",
       "      <td>0.001514</td>\n",
       "      <td>0.001731</td>\n",
       "      <td>0.001922</td>\n",
       "      <td>0.001967</td>\n",
       "    </tr>\n",
       "  </tbody>\n",
       "</table>\n",
       "</div>"
      ],
      "text/plain": [
       "          DGS1MO    DGS3MO    DGS6MO      DGS1      DGS2      DGS3      DGS5  \\\n",
       "DGS1MO  0.000161  0.000012  0.000020  0.000018 -0.000003 -0.000013 -0.000020   \n",
       "DGS3MO  0.000012  0.000064  0.000019  0.000010  0.000015  0.000026  0.000030   \n",
       "DGS6MO  0.000020  0.000019  0.000078  0.000016  0.000033  0.000028  0.000035   \n",
       "DGS1    0.000018  0.000010  0.000016  0.000132  0.000124  0.000158  0.000176   \n",
       "DGS2   -0.000003  0.000015  0.000033  0.000124  0.000550  0.000562  0.000665   \n",
       "DGS3   -0.000013  0.000026  0.000028  0.000158  0.000562  0.000831  0.000997   \n",
       "DGS5   -0.000020  0.000030  0.000035  0.000176  0.000665  0.000997  0.001480   \n",
       "DGS7   -0.000027  0.000024  0.000032  0.000174  0.000621  0.000979  0.001539   \n",
       "DGS10  -0.000050  0.000030  0.000021  0.000147  0.000514  0.000862  0.001424   \n",
       "DGS20  -0.000069  0.000013  0.000019  0.000139  0.000411  0.000736  0.001307   \n",
       "DGS30  -0.000067  0.000021  0.000014  0.000119  0.000336  0.000641  0.001151   \n",
       "\n",
       "            DGS7     DGS10     DGS20     DGS30  \n",
       "DGS1MO -0.000027 -0.000050 -0.000069 -0.000067  \n",
       "DGS3MO  0.000024  0.000030  0.000013  0.000021  \n",
       "DGS6MO  0.000032  0.000021  0.000019  0.000014  \n",
       "DGS1    0.000174  0.000147  0.000139  0.000119  \n",
       "DGS2    0.000621  0.000514  0.000411  0.000336  \n",
       "DGS3    0.000979  0.000862  0.000736  0.000641  \n",
       "DGS5    0.001539  0.001424  0.001307  0.001151  \n",
       "DGS7    0.001779  0.001722  0.001661  0.001514  \n",
       "DGS10   0.001722  0.001831  0.001818  0.001731  \n",
       "DGS20   0.001661  0.001818  0.002023  0.001922  \n",
       "DGS30   0.001514  0.001731  0.001922  0.001967  "
      ]
     },
     "execution_count": 7,
     "metadata": {},
     "output_type": "execute_result"
    }
   ],
   "source": [
    "cov_matrix"
   ]
  },
  {
   "cell_type": "code",
   "execution_count": 8,
   "id": "142e84e6",
   "metadata": {},
   "outputs": [],
   "source": [
    "X = cov_matrix"
   ]
  },
  {
   "cell_type": "code",
   "execution_count": 9,
   "id": "ea80434c",
   "metadata": {},
   "outputs": [],
   "source": [
    "X_centered = X - X.mean(axis = 0)\n",
    "U, s, Vt = np.linalg.svd(X_centered)"
   ]
  },
  {
   "cell_type": "code",
   "execution_count": 10,
   "id": "40d3feda",
   "metadata": {},
   "outputs": [
    {
     "data": {
      "text/plain": [
       "0.9359252946554417"
      ]
     },
     "execution_count": 10,
     "metadata": {},
     "output_type": "execute_result"
    }
   ],
   "source": [
    "sum(s[0:3])/sum(s)"
   ]
  },
  {
   "cell_type": "code",
   "execution_count": 11,
   "id": "2a468479",
   "metadata": {
    "scrolled": true
   },
   "outputs": [
    {
     "data": {
      "text/plain": [
       "array([5.59922257e-03, 1.15536517e-03, 2.03018215e-04, 1.13542491e-04,\n",
       "       9.52681748e-05, 8.55948533e-05, 6.36825149e-05, 4.83790078e-05,\n",
       "       4.31694405e-05, 2.66905859e-05, 4.84219486e-20])"
      ]
     },
     "execution_count": 11,
     "metadata": {},
     "output_type": "execute_result"
    }
   ],
   "source": [
    "s"
   ]
  },
  {
   "cell_type": "code",
   "execution_count": 12,
   "id": "953da3fa",
   "metadata": {},
   "outputs": [],
   "source": [
    "W3 = Vt.T[:, :3]"
   ]
  },
  {
   "cell_type": "code",
   "execution_count": 13,
   "id": "b08d9cb3",
   "metadata": {},
   "outputs": [],
   "source": [
    "res_df = pd.DataFrame(W3, columns= [\"PC1\", \"PC2\", \"PC3\"])"
   ]
  },
  {
   "cell_type": "code",
   "execution_count": 14,
   "id": "4463216d",
   "metadata": {
    "scrolled": true
   },
   "outputs": [
    {
     "data": {
      "text/plain": [
       "<AxesSubplot:>"
      ]
     },
     "execution_count": 14,
     "metadata": {},
     "output_type": "execute_result"
    },
    {
     "data": {
      "image/png": "[encoded data removed]",
      "text/plain": [
       "<Figure size 432x288 with 1 Axes>"
      ]
     },
     "metadata": {
      "needs_background": "light"
     },
     "output_type": "display_data"
    }
   ],
   "source": [
    "res_df.plot()"
   ]
  },
  {
   "cell_type": "code",
   "execution_count": 15,
   "id": "598e1203",
   "metadata": {},
   "outputs": [
    {
     "data": {
      "text/plain": [
       "<AxesSubplot:>"
      ]
     },
     "execution_count": 15,
     "metadata": {},
     "output_type": "execute_result"
    },
    {
     "data": {
      "image/png": "[encoded data removed]",
      "text/plain": [
       "<Figure size 432x288 with 1 Axes>"
      ]
     },
     "metadata": {
      "needs_background": "light"
     },
     "output_type": "display_data"
    }
   ],
   "source": [
    "df.mean(axis =0).plot()"
   ]
  },
  {
   "cell_type": "code",
   "execution_count": 16,
   "id": "6b385159",
   "metadata": {
    "scrolled": false
   },
   "outputs": [
    {
     "data": {
      "text/plain": [
       "DGS1MO    0.06\n",
       "DGS3MO    0.06\n",
       "DGS6MO    0.19\n",
       "DGS1      0.39\n",
       "DGS2      0.73\n",
       "DGS3      0.97\n",
       "DGS5      1.26\n",
       "DGS7      1.44\n",
       "DGS10     1.52\n",
       "DGS20     1.94\n",
       "DGS30     1.90\n",
       "Name: 2021-12-31, dtype: float64"
      ]
     },
     "execution_count": 16,
     "metadata": {},
     "output_type": "execute_result"
    }
   ],
   "source": [
    "df.iloc[-1,:]"
   ]
  },
  {
   "cell_type": "code",
   "execution_count": 17,
   "id": "703030ed",
   "metadata": {},
   "outputs": [],
   "source": [
    "from scipy.interpolate import interp1d"
   ]
  },
  {
   "cell_type": "code",
   "execution_count": 18,
   "id": "e8fffd9e",
   "metadata": {},
   "outputs": [
    {
     "data": {
      "text/plain": [
       "array([0.06, 0.06, 0.19, 0.39, 0.73, 0.97, 1.26, 1.44, 1.52, 1.94, 1.9 ])"
      ]
     },
     "execution_count": 18,
     "metadata": {},
     "output_type": "execute_result"
    }
   ],
   "source": [
    "X = df.iloc[-1,:].values\n",
    "X"
   ]
  },
  {
   "cell_type": "code",
   "execution_count": 19,
   "id": "e965b63f",
   "metadata": {},
   "outputs": [
    {
     "data": {
      "text/plain": [
       "array([  1,   3,   6,  12,  24,  36,  60,  84, 120, 240, 360])"
      ]
     },
     "execution_count": 19,
     "metadata": {},
     "output_type": "execute_result"
    }
   ],
   "source": [
    "Y = np.array([1, 3, 6, 12, 24, 36, 60, 84, 120, 240 ,360])\n",
    "Y"
   ]
  },
  {
   "cell_type": "code",
   "execution_count": 20,
   "id": "78f01ab6",
   "metadata": {},
   "outputs": [],
   "source": [
    "y_interp = interp1d(Y, X)"
   ]
  },
  {
   "cell_type": "code",
   "execution_count": 21,
   "id": "c507574b",
   "metadata": {},
   "outputs": [],
   "source": [
    "Xs = np.linspace(1,360, 360)\n",
    "Ys = y_interp(Xs)"
   ]
  },
  {
   "cell_type": "code",
   "execution_count": 22,
   "id": "7accaac8",
   "metadata": {},
   "outputs": [
    {
     "data": {
      "text/plain": [
       "<AxesSubplot:>"
      ]
     },
     "execution_count": 22,
     "metadata": {},
     "output_type": "execute_result"
    },
    {
     "data": {
      "image/png": "[encoded data removed]",
      "text/plain": [
       "<Figure size 432x288 with 1 Axes>"
      ]
     },
     "metadata": {
      "needs_background": "light"
     },
     "output_type": "display_data"
    }
   ],
   "source": [
    "pd.DataFrame(Ys, index = Xs).plot()"
   ]
  },
  {
   "cell_type": "code",
   "execution_count": 23,
   "id": "7d76d779",
   "metadata": {},
   "outputs": [
    {
     "data": {
      "image/png": "[encoded data removed]",
      "text/plain": [
       "<Figure size 432x288 with 1 Axes>"
      ]
     },
     "metadata": {
      "needs_background": "light"
     },
     "output_type": "display_data"
    }
   ],
   "source": [
    "import matplotlib.pyplot as plt\n",
    "\n",
    "# Create scatter plot\n",
    "plt.scatter(Y, X, color='blue', marker='o', label='Sample Data')\n",
    "\n",
    "# Title and labels\n",
    "plt.title('Simple Scatter Plot')\n",
    "plt.xlabel('X Axis')\n",
    "plt.ylabel('Y Axis')\n",
    "plt.legend()\n",
    "\n",
    "# Display the plot\n",
    "plt.show()"
   ]
  },
  {
   "cell_type": "code",
   "execution_count": 24,
   "id": "f66f759b",
   "metadata": {},
   "outputs": [],
   "source": [
    "\n",
    "f = Xs/12"
   ]
  },
  {
   "cell_type": "code",
   "execution_count": 25,
   "id": "520df8bc",
   "metadata": {},
   "outputs": [],
   "source": [
    "from scipy.optimize import fmin"
   ]
  },
  {
   "cell_type": "code",
   "execution_count": 26,
   "id": "8eff6224",
   "metadata": {
    "scrolled": true
   },
   "outputs": [
    {
     "name": "stdout",
     "output_type": "stream",
     "text": [
      "Optimization terminated successfully.\n",
      "         Current function value: 15.311537\n",
      "         Iterations: 333\n",
      "         Function evaluations: 569\n"
     ]
    }
   ],
   "source": [
    "def objective_func(parameters, _print = False):\n",
    "    β0 = parameters[0]\n",
    "    β1 = parameters[1]\n",
    "    β2 = parameters[2]\n",
    "    tau = parameters[3]\n",
    "    Ys_fit =(β0)+(β1 * (tau/f) * ((1-np.exp(-f/tau)))) \\\n",
    "            +(β2 * (tau/f) * (1 - np.exp(-f/tau)*(1 + f/tau)))\n",
    "    residuals = np.sum(np.abs(Ys - Ys_fit))\n",
    "    if _print:\n",
    "        print(\"[β0, β1, β2, λ]=\",parameters,\", SUM:\", residuals)\n",
    "    return(residuals)\n",
    "    \n",
    "parameters = fmin(objective_func, [0.001, 0.001, 0.001, 0.01])"
   ]
  },
  {
   "cell_type": "code",
   "execution_count": 27,
   "id": "d5a3081f",
   "metadata": {},
   "outputs": [
    {
     "data": {
      "text/plain": [
       "array([ 2.07475501, -2.01698001,  0.74614202,  3.41640624])"
      ]
     },
     "execution_count": 27,
     "metadata": {},
     "output_type": "execute_result"
    }
   ],
   "source": [
    "parameters"
   ]
  },
  {
   "cell_type": "code",
   "execution_count": 28,
   "id": "9a2f95a9",
   "metadata": {},
   "outputs": [],
   "source": [
    "β0 = parameters[0]\n",
    "β1 = parameters[1]\n",
    "β2 = parameters[2]\n",
    "tau = parameters[3]"
   ]
  },
  {
   "cell_type": "code",
   "execution_count": 29,
   "id": "638e7701",
   "metadata": {},
   "outputs": [],
   "source": [
    "Ys_fit =(β0)+(β1 * (tau/f) * ((1-np.exp(-f/tau)))) \\\n",
    "            +(β2 * (tau/f) * (1 - np.exp(-f/tau)*(1 + f/tau)))"
   ]
  },
  {
   "cell_type": "code",
   "execution_count": 30,
   "id": "7f28f4fb",
   "metadata": {},
   "outputs": [],
   "source": [
    "residuals = np.sum(np.abs(Ys - Ys_fit))"
   ]
  },
  {
   "cell_type": "code",
   "execution_count": 31,
   "id": "3f0566d8",
   "metadata": {},
   "outputs": [
    {
     "data": {
      "text/plain": [
       "<AxesSubplot:>"
      ]
     },
     "execution_count": 31,
     "metadata": {},
     "output_type": "execute_result"
    },
    {
     "data": {
      "image/png": "[encoded data removed]",
      "text/plain": [
       "<Figure size 432x288 with 1 Axes>"
      ]
     },
     "metadata": {
      "needs_background": "light"
     },
     "output_type": "display_data"
    }
   ],
   "source": [
    "pd.DataFrame({\"Linear\" : Ys, \"Nelson-Siegal\" : Ys_fit}, index=f).plot()"
   ]
  },
  {
   "cell_type": "code",
   "execution_count": 32,
   "id": "06b78263",
   "metadata": {},
   "outputs": [
    {
     "data": {
      "text/plain": [
       "2.074755005619158"
      ]
     },
     "execution_count": 32,
     "metadata": {},
     "output_type": "execute_result"
    }
   ],
   "source": [
    "f = 1000000000000000\n",
    "(β0)+(β1 * (tau/f) * ((1-np.exp(-f/tau)))) \\\n",
    "            +(β2 * (tau/f) * (1 - np.exp(-f/tau)*(1 + f/tau)))"
   ]
  }
 ],
 "metadata": {
  "kernelspec": {
   "display_name": "Python 3 (ipykernel)",
   "language": "python",
   "name": "python3"
  },
  "language_info": {
   "codemirror_mode": {
    "name": "ipython",
    "version": 3
   },
   "file_extension": ".py",
   "mimetype": "text/x-python",
   "name": "python",
   "nbconvert_exporter": "python",
   "pygments_lexer": "ipython3",
   "version": "3.9.12"
  }
 },
 "nbformat": 4,
 "nbformat_minor": 5
}
